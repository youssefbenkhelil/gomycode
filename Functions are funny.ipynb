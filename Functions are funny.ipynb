{
 "cells": [
  {
   "cell_type": "code",
   "execution_count": 17,
   "metadata": {},
   "outputs": [
    {
     "data": {
      "text/plain": [
       "3"
      ]
     },
     "execution_count": 17,
     "metadata": {},
     "output_type": "execute_result"
    }
   ],
   "source": [
    "def maximum(x,y,z):\n",
    "    maximum=x\n",
    "    if y>x:\n",
    "        if z>y:\n",
    "            maximum=z\n",
    "        else:\n",
    "            maximum=y\n",
    "    if z>x and x>y:\n",
    "        maximum=z\n",
    "    return maximum\n",
    "maximum(1,3,2)\n",
    "    "
   ]
  },
  {
   "cell_type": "markdown",
   "metadata": {},
   "source": [
    "Question 2"
   ]
  },
  {
   "cell_type": "code",
   "execution_count": 30,
   "metadata": {},
   "outputs": [
    {
     "data": {
      "text/plain": [
       "15"
      ]
     },
     "execution_count": 30,
     "metadata": {},
     "output_type": "execute_result"
    }
   ],
   "source": [
    "def sumlist(L):\n",
    "    somme=0\n",
    "    for i in range(len(L)):\n",
    "        somme=somme+L[i]\n",
    "    return somme\n",
    "L=[1,2,3,4,5]\n",
    "sumlist(L)"
   ]
  },
  {
   "cell_type": "code",
   "execution_count": 32,
   "metadata": {},
   "outputs": [
    {
     "data": {
      "text/plain": [
       "120"
      ]
     },
     "execution_count": 32,
     "metadata": {},
     "output_type": "execute_result"
    }
   ],
   "source": [
    "def multlist(L):\n",
    "    mult=1\n",
    "    for i in range(len(L)):\n",
    "        mult=mult*L[i]\n",
    "    return mult\n",
    "L=[1,2,3,4,5]\n",
    "multlist(L)"
   ]
  },
  {
   "cell_type": "code",
   "execution_count": 33,
   "metadata": {},
   "outputs": [
    {
     "data": {
      "text/plain": [
       "105"
      ]
     },
     "execution_count": 33,
     "metadata": {},
     "output_type": "execute_result"
    }
   ],
   "source": [
    "def newlist(L):\n",
    "    l=[]\n",
    "    for i in range(len(L)):\n",
    "        if i%2==0:\n",
    "            l.append(L[i])\n",
    "    return(l)\n",
    "        \n",
    "L=[1,2,3,4,5,6,7,8]\n",
    "l=newlist(L)\n",
    "multlist(l)"
   ]
  },
  {
   "cell_type": "markdown",
   "metadata": {},
   "source": [
    "Question 3"
   ]
  },
  {
   "cell_type": "code",
   "execution_count": 40,
   "metadata": {},
   "outputs": [
    {
     "data": {
      "text/plain": [
       "['black', 'green', 'red', 'white', 'yellow']"
      ]
     },
     "execution_count": 40,
     "metadata": {},
     "output_type": "execute_result"
    }
   ],
   "source": [
    "split=lambda L:L.split('-')\n",
    "def sort(L):\n",
    "    l=split(L)\n",
    "    l.sort()\n",
    "    return l \n",
    "    \n",
    "L='green-red-yellow-black-white'\n",
    "\n",
    "sort(L)"
   ]
  },
  {
   "cell_type": "code",
   "execution_count": null,
   "metadata": {},
   "outputs": [],
   "source": []
  }
 ],
 "metadata": {
  "kernelspec": {
   "display_name": "Python 3",
   "language": "python",
   "name": "python3"
  },
  "language_info": {
   "codemirror_mode": {
    "name": "ipython",
    "version": 3
   },
   "file_extension": ".py",
   "mimetype": "text/x-python",
   "name": "python",
   "nbconvert_exporter": "python",
   "pygments_lexer": "ipython3",
   "version": "3.7.6"
  }
 },
 "nbformat": 4,
 "nbformat_minor": 4
}
