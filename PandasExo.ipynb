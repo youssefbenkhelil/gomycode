{
 "cells": [
  {
   "cell_type": "markdown",
   "metadata": {},
   "source": [
    "Checkpoint Pandas"
   ]
  },
  {
   "cell_type": "code",
   "execution_count": 115,
   "metadata": {},
   "outputs": [
    {
     "name": "stdout",
     "output_type": "stream",
     "text": [
      "  labels       name  score  attempts qualify\n",
      "0      a  Anastasia   12.5         1     yes\n",
      "1      b       Dima    9.0         3      no\n",
      "2      c  Katherine   16.5         2     yes\n",
      "3      d      James    NaN         3      no\n",
      "4      e      Emily    9.0         2      no\n",
      "5      f    Michael   20.0         3     yes\n",
      "6      g    Matthew   14.5         1     yes\n",
      "7      h      Laura    NaN         1      no\n",
      "8      i      Kevin    8.0         2      no\n",
      "9      j      Jonas   19.0         1     yes\n",
      "\n",
      "  labels       name  score  attempts qualify\n",
      "0      a  Anastasia   12.5         1     yes\n",
      "1      b       Dima    9.0         3      no\n",
      "2      c  Katherine   16.5         2     yes\n"
     ]
    }
   ],
   "source": [
    "import numpy as np\n",
    "import pandas as pd\n",
    "\n",
    "exam_data = {'labels' : ['a', 'b', 'c', 'd', 'e', 'f', 'g', 'h', 'i', 'j'],\n",
    "'name': ['Anastasia', 'Dima', 'Katherine', 'James', 'Emily', 'Michael', 'Matthew', 'Laura', 'Kevin', 'Jonas'],\n",
    "'score': [12.5, 9, 16.5, np.nan, 9, 20, 14.5, np.nan, 8, 19],\n",
    "'attempts': [1, 3, 2, 3, 2, 3, 1, 1, 2, 1],\n",
    "'qualify': ['yes', 'no', 'yes', 'no', 'no', 'yes', 'yes', 'no', 'no', 'yes']\n",
    " }\n",
    "\n",
    "#1\n",
    "df=pd.DataFrame(exam_data)\n",
    "print (df)\n",
    "print('')\n",
    "print (df.head(3))"
   ]
  },
  {
   "cell_type": "code",
   "execution_count": 104,
   "metadata": {},
   "outputs": [
    {
     "name": "stdout",
     "output_type": "stream",
     "text": [
      "Index(['d', 'h'], dtype='object')\n",
      "        name  score  attempts qualify\n",
      "a  Anastasia   12.5         1     yes\n",
      "b       Dima    9.0         3      no\n",
      "c  Katherine   16.5         2     yes\n",
      "e      Emily    9.0         2      no\n",
      "f    Michael   20.0         3     yes\n",
      "g    Matthew   14.5         1     yes\n",
      "i      Kevin    8.0         2      no\n",
      "j      Jonas   19.0         1     yes\n"
     ]
    }
   ],
   "source": [
    "#2\n",
    "i=(df[(np.isnan(df.score))]).index\n",
    "print(i)\n",
    "df1=df.drop(i,axis=0)\n",
    "print(df1)\n"
   ]
  },
  {
   "cell_type": "code",
   "execution_count": 95,
   "metadata": {},
   "outputs": [
    {
     "data": {
      "text/html": [
       "<div>\n",
       "<style scoped>\n",
       "    .dataframe tbody tr th:only-of-type {\n",
       "        vertical-align: middle;\n",
       "    }\n",
       "\n",
       "    .dataframe tbody tr th {\n",
       "        vertical-align: top;\n",
       "    }\n",
       "\n",
       "    .dataframe thead th {\n",
       "        text-align: right;\n",
       "    }\n",
       "</style>\n",
       "<table border=\"1\" class=\"dataframe\">\n",
       "  <thead>\n",
       "    <tr style=\"text-align: right;\">\n",
       "      <th></th>\n",
       "      <th>name</th>\n",
       "      <th>score</th>\n",
       "    </tr>\n",
       "  </thead>\n",
       "  <tbody>\n",
       "    <tr>\n",
       "      <th>a</th>\n",
       "      <td>Anastasia</td>\n",
       "      <td>12.5</td>\n",
       "    </tr>\n",
       "    <tr>\n",
       "      <th>b</th>\n",
       "      <td>Dima</td>\n",
       "      <td>9.0</td>\n",
       "    </tr>\n",
       "    <tr>\n",
       "      <th>c</th>\n",
       "      <td>Katherine</td>\n",
       "      <td>16.5</td>\n",
       "    </tr>\n",
       "    <tr>\n",
       "      <th>d</th>\n",
       "      <td>James</td>\n",
       "      <td>NaN</td>\n",
       "    </tr>\n",
       "    <tr>\n",
       "      <th>e</th>\n",
       "      <td>Emily</td>\n",
       "      <td>9.0</td>\n",
       "    </tr>\n",
       "    <tr>\n",
       "      <th>f</th>\n",
       "      <td>Michael</td>\n",
       "      <td>20.0</td>\n",
       "    </tr>\n",
       "    <tr>\n",
       "      <th>g</th>\n",
       "      <td>Matthew</td>\n",
       "      <td>14.5</td>\n",
       "    </tr>\n",
       "    <tr>\n",
       "      <th>h</th>\n",
       "      <td>Laura</td>\n",
       "      <td>NaN</td>\n",
       "    </tr>\n",
       "    <tr>\n",
       "      <th>i</th>\n",
       "      <td>Kevin</td>\n",
       "      <td>8.0</td>\n",
       "    </tr>\n",
       "    <tr>\n",
       "      <th>j</th>\n",
       "      <td>Jonas</td>\n",
       "      <td>19.0</td>\n",
       "    </tr>\n",
       "  </tbody>\n",
       "</table>\n",
       "</div>"
      ],
      "text/plain": [
       "        name  score\n",
       "a  Anastasia   12.5\n",
       "b       Dima    9.0\n",
       "c  Katherine   16.5\n",
       "d      James    NaN\n",
       "e      Emily    9.0\n",
       "f    Michael   20.0\n",
       "g    Matthew   14.5\n",
       "h      Laura    NaN\n",
       "i      Kevin    8.0\n",
       "j      Jonas   19.0"
      ]
     },
     "execution_count": 95,
     "metadata": {},
     "output_type": "execute_result"
    }
   ],
   "source": [
    "#3\n",
    "df.loc[:,['name','score']]"
   ]
  },
  {
   "cell_type": "code",
   "execution_count": 117,
   "metadata": {},
   "outputs": [
    {
     "name": "stdout",
     "output_type": "stream",
     "text": [
      "   labels       name  score  attempts qualify\n",
      "0       a  Anastasia   12.5         1     yes\n",
      "1       b       Dima    9.0         3      no\n",
      "2       c  Katherine   16.5         2     yes\n",
      "3       d      James    NaN         3      no\n",
      "4       e      Emily    9.0         2      no\n",
      "5       f    Michael   20.0         3     yes\n",
      "6       g    Matthew   14.5         1     yes\n",
      "7       h      Laura    NaN         1      no\n",
      "8       i      Kevin    8.0         2      no\n",
      "9       j      Jonas   19.0         1     yes\n",
      "10      k     Suresh   15.5         1     yes\n"
     ]
    }
   ],
   "source": [
    "#4\n",
    "Exam_Data2={'labels':'k',\n",
    "'name': 'Suresh',\n",
    "'score': 15.5,\n",
    "'attempts': 1,\n",
    "'qualify': 'yes'}\n",
    "df=df.append(Exam_Data2,ignore_index=True)\n",
    "print(df)"
   ]
  },
  {
   "cell_type": "code",
   "execution_count": 121,
   "metadata": {},
   "outputs": [
    {
     "name": "stdout",
     "output_type": "stream",
     "text": [
      "   labels       name  score qualify\n",
      "0       a  Anastasia   12.5     yes\n",
      "1       b       Dima    9.0      no\n",
      "2       c  Katherine   16.5     yes\n",
      "3       d      James    NaN      no\n",
      "4       e      Emily    9.0      no\n",
      "5       f    Michael   20.0     yes\n",
      "6       g    Matthew   14.5     yes\n",
      "7       h      Laura    NaN      no\n",
      "8       i      Kevin    8.0      no\n",
      "9       j      Jonas   19.0     yes\n",
      "10      k     Suresh   15.5     yes\n"
     ]
    }
   ],
   "source": [
    "#5\n",
    "df2=df.drop('attempts',axis=1)\n",
    "print(df2)"
   ]
  },
  {
   "cell_type": "code",
   "execution_count": 126,
   "metadata": {},
   "outputs": [
    {
     "name": "stdout",
     "output_type": "stream",
     "text": [
      "[1, 0, 1, 0, 0, 1, 1, 0, 0, 1, 1]\n",
      "   labels       name  score qualify  success\n",
      "0       a  Anastasia   12.5     yes        1\n",
      "1       b       Dima    9.0      no        0\n",
      "2       c  Katherine   16.5     yes        1\n",
      "3       d      James    NaN      no        0\n",
      "4       e      Emily    9.0      no        0\n",
      "5       f    Michael   20.0     yes        1\n",
      "6       g    Matthew   14.5     yes        1\n",
      "7       h      Laura    NaN      no        0\n",
      "8       i      Kevin    8.0      no        0\n",
      "9       j      Jonas   19.0     yes        1\n",
      "10      k     Suresh   15.5     yes        1\n"
     ]
    }
   ],
   "source": [
    "#6\n",
    "n_row=df.shape[0]\n",
    "list=[]\n",
    "for i in range(n_row):\n",
    "    if df2.score[i]>10:\n",
    "        list.append(1)\n",
    "    else:\n",
    "        list.append(0)\n",
    "print (list)\n",
    "df2['success']=list\n",
    "print(df2)"
   ]
  },
  {
   "cell_type": "code",
   "execution_count": null,
   "metadata": {},
   "outputs": [],
   "source": []
  }
 ],
 "metadata": {
  "kernelspec": {
   "display_name": "Python 3",
   "language": "python",
   "name": "python3"
  },
  "language_info": {
   "codemirror_mode": {
    "name": "ipython",
    "version": 3
   },
   "file_extension": ".py",
   "mimetype": "text/x-python",
   "name": "python",
   "nbconvert_exporter": "python",
   "pygments_lexer": "ipython3",
   "version": "3.7.6"
  }
 },
 "nbformat": 4,
 "nbformat_minor": 4
}
