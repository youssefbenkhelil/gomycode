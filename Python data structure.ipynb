{
 "cells": [
  {
   "cell_type": "markdown",
   "metadata": {},
   "source": [
    "Question 1\n"
   ]
  },
  {
   "cell_type": "code",
   "execution_count": 14,
   "metadata": {},
   "outputs": [
    {
     "data": {
      "text/plain": [
       "120"
      ]
     },
     "execution_count": 14,
     "metadata": {},
     "output_type": "execute_result"
    }
   ],
   "source": [
    "def multlist(l):\n",
    "        mult=1\n",
    "        for i in range(len(l)):\n",
    "            mult=mult*l[i]\n",
    "        return mult\n",
    "l=[1,2,3,4,5]\n",
    "multlist(l)"
   ]
  },
  {
   "cell_type": "markdown",
   "metadata": {},
   "source": [
    "Question 2"
   ]
  },
  {
   "cell_type": "code",
   "execution_count": 72,
   "metadata": {},
   "outputs": [
    {
     "name": "stdout",
     "output_type": "stream",
     "text": [
      "this is max (2, 5)\n",
      "this is max (2, 5)\n",
      "this is max (2, 5)\n",
      "this is max (2, 5)\n",
      "this is max (2, 5)\n",
      "end of if\n",
      "this is max (1, 2)\n",
      "this is max (4, 4)\n",
      "this is max (4, 4)\n",
      "this is max (4, 4)\n",
      "end of if\n",
      "this is max (1, 2)\n",
      "this is max (2, 3)\n",
      "this is max (2, 3)\n",
      "end of if\n",
      "this is max (1, 2)\n",
      "this is max (1, 2)\n",
      "end of if\n",
      "this is max (2, 1)\n",
      "end of if\n"
     ]
    },
    {
     "data": {
      "text/plain": [
       "[(2, 1), (1, 2), (2, 3), (4, 4), (2, 5)]"
      ]
     },
     "execution_count": 72,
     "metadata": {},
     "output_type": "execute_result"
    }
   ],
   "source": [
    "L=[(2,5),(1,2),(4,4),(2,3),(2,1)]\n",
    "def Trilist(L):\n",
    "    maxi=L[0]\n",
    "    for i in range(len(L)):\n",
    "        for j in range(len(L)):\n",
    "            if (L[i][1]>maxi[1]):\n",
    "                maxi=L[i]\n",
    "        print(\"this is max\",maxi)\n",
    "    print(\"end of if\")\n",
    "    L.remove(maxi)\n",
    "    L.insert(len(L),maxi)\n",
    "    if(len(L)>1):\n",
    "        L[0:len(L)-1]=Trilist(L[0:len(L)-1])\n",
    "    return L\n",
    "Trilist(L)"
   ]
  },
  {
   "cell_type": "markdown",
   "metadata": {},
   "source": [
    "Question 3"
   ]
  },
  {
   "cell_type": "code",
   "execution_count": 6,
   "metadata": {},
   "outputs": [
    {
     "name": "stdout",
     "output_type": "stream",
     "text": [
      "{'a': 400, 'b': 400, 'c': 300, 'd': 400}\n"
     ]
    }
   ],
   "source": [
    "d1 = {'a':100,'b':200,'c':300}\n",
    "d2 = {'a':300,'b':200,'d':400}\n",
    " \n",
    "for key , value in d2.items():\n",
    "    if key in d1 and key in d2:\n",
    "        d1[key]=value+d1[key]\n",
    "    if key in d2 and key not in d1:\n",
    "        d1[key]=value\n",
    "print(d1)\n",
    "    "
   ]
  },
  {
   "cell_type": "markdown",
   "metadata": {},
   "source": [
    "Question 4"
   ]
  },
  {
   "cell_type": "code",
   "execution_count": 93,
   "metadata": {},
   "outputs": [
    {
     "data": {
      "text/plain": [
       "[('item3', '24.5'), ('item2', '15.10'), ('item1', '12.20')]"
      ]
     },
     "execution_count": 93,
     "metadata": {},
     "output_type": "execute_result"
    }
   ],
   "source": [
    "list= [('item1', '12.20'), ('item2', '15.10'), ('item3', '24.5')]\n",
    "def Trilist(L):\n",
    "    mini=L[0]\n",
    "    for i in range(len(L)):\n",
    "        for j in range(len(L)):\n",
    "            if (L[i][1]<mini[1]):\n",
    "                mini=L[i]\n",
    "    L.remove(mini)\n",
    "    L.insert(len(L),mini)\n",
    "    if(len(L)>1):\n",
    "        L[0:len(L)-1]=Trilist(L[0:len(L)-1])\n",
    "    return L\n",
    "Trilist(list)"
   ]
  },
  {
   "cell_type": "code",
   "execution_count": null,
   "metadata": {},
   "outputs": [],
   "source": []
  }
 ],
 "metadata": {
  "kernelspec": {
   "display_name": "Python 3",
   "language": "python",
   "name": "python3"
  },
  "language_info": {
   "codemirror_mode": {
    "name": "ipython",
    "version": 3
   },
   "file_extension": ".py",
   "mimetype": "text/x-python",
   "name": "python",
   "nbconvert_exporter": "python",
   "pygments_lexer": "ipython3",
   "version": "3.7.6"
  }
 },
 "nbformat": 4,
 "nbformat_minor": 4
}
