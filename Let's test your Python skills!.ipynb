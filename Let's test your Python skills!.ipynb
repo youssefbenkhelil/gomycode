{
 "cells": [
  {
   "cell_type": "markdown",
   "metadata": {},
   "source": [
    "Question 1"
   ]
  },
  {
   "cell_type": "code",
   "execution_count": 4,
   "metadata": {},
   "outputs": [
    {
     "name": "stdout",
     "output_type": "stream",
     "text": [
      "2002  2009  2016  2023  2037  2044  2051  2058  2072  2079  2086  2093  2107  2114  2121  2128  2142  2149  2156  2163  2177  2184  2191  2198  2212  2219  2226  2233  2247  2254  2261  2268  2282  2289  2296  2303  2317  2324  2331  2338  2352  2359  2366  2373  2387  2394  2401  2408  2422  2429  2436  2443  2457  2464  2471  2478  2492  2499  2506  2513  2527  2534  2541  2548  2562  2569  2576  2583  2597  2604  2611  2618  2632  2639  2646  2653  2667  2674  2681  2688  2702  2709  2716  2723  2737  2744  2751  2758  2772  2779  2786  2793  2807  2814  2821  2828  2842  2849  2856  2863  2877  2884  2891  2898  2912  2919  2926  2933  2947  2954  2961  2968  2982  2989  2996  3003  3017  3024  3031  3038  3052  3059  3066  3073  3087  3094  3101  3108  3122  3129  3136  3143  3157  3164  3171  3178  3192  3199  "
     ]
    }
   ],
   "source": [
    "for i in range (2000,3200,1):\n",
    "    if i%5 != 0:#check if i is not divisible by 5\n",
    "        if i%7 == 0:#check if i is divisible by 7\n",
    "            print(i, end='  ')"
   ]
  },
  {
   "cell_type": "markdown",
   "metadata": {},
   "source": [
    "Question 2"
   ]
  },
  {
   "cell_type": "code",
   "execution_count": 14,
   "metadata": {},
   "outputs": [
    {
     "name": "stdout",
     "output_type": "stream",
     "text": [
      "enter an integer  8\n"
     ]
    },
    {
     "data": {
      "text/plain": [
       "40320"
      ]
     },
     "execution_count": 14,
     "metadata": {},
     "output_type": "execute_result"
    }
   ],
   "source": [
    "#factoriel\n",
    "y=input('enter an integer  ')#input() returns a string  \n",
    "z=int(y)# we convert the string into an int\n",
    "def factoriel(x): # we use a recursion to calculate the factorial of a integer\n",
    "    if x != 1:\n",
    "        fact=x*factoriel(x-1)\n",
    "    else :\n",
    "        fact=1\n",
    "    return fact\n",
    "factoriel(z)\n",
    "\n",
    "        \n",
    "    "
   ]
  },
  {
   "cell_type": "markdown",
   "metadata": {},
   "source": [
    "Question 3\n"
   ]
  },
  {
   "cell_type": "code",
   "execution_count": 19,
   "metadata": {},
   "outputs": [
    {
     "name": "stdout",
     "output_type": "stream",
     "text": [
      "enter an integer  8\n",
      "{0: 0, 1: 1, 2: 4, 3: 9, 4: 16, 5: 25, 6: 36, 7: 49, 8: 64}\n"
     ]
    }
   ],
   "source": [
    "y=input('enter an integer  ')#input() returns a string  \n",
    "z=int(y)# we convert the string into an int\n",
    "dic=dict()# we create an empty dictionary\n",
    "for i in range(z+1):# the for loop stops includes z\n",
    "    j=i*i\n",
    "    dic[i]=j\n",
    "print(dic)"
   ]
  },
  {
   "cell_type": "markdown",
   "metadata": {},
   "source": [
    "Question 4"
   ]
  },
  {
   "cell_type": "code",
   "execution_count": 29,
   "metadata": {},
   "outputs": [
    {
     "name": "stdout",
     "output_type": "stream",
     "text": [
      "enter a stringjambon\n",
      "enter an integer n, n will be in the range 0..len(string)-1 inclusive2\n"
     ]
    },
    {
     "data": {
      "text/plain": [
       "'jabon'"
      ]
     },
     "execution_count": 29,
     "metadata": {},
     "output_type": "execute_result"
    }
   ],
   "source": [
    "def q4():\n",
    "    a=input('enter a string')\n",
    "    b=input('enter an integer n, n will be in the range 0..len(string)-1 inclusive')\n",
    "    b=int(b)# we convert the string into an int\n",
    "    if b>len(a) or b<0:\n",
    "        print('n is not in the range 0..len(string)-1 inclusive ')\n",
    "        return\n",
    "    else:\n",
    "        c=a[0:b]\n",
    "        d=a[b+1:]\n",
    "        a=c+d\n",
    "        return a\n",
    "q4()"
   ]
  },
  {
   "cell_type": "markdown",
   "metadata": {},
   "source": [
    "Question 5"
   ]
  },
  {
   "cell_type": "code",
   "execution_count": 42,
   "metadata": {},
   "outputs": [
    {
     "name": "stdout",
     "output_type": "stream",
     "text": [
      "[[8 8]\n",
      " [8 2]\n",
      " [4 3]]\n",
      "[[8, 8], [8, 2], [4, 3]]\n"
     ]
    }
   ],
   "source": [
    "import numpy as np\n",
    "a=np.random.randint(1,10,size=(3,2))#we create an numpy array\n",
    "print(a)\n",
    "#print(a.shape)\n",
    "n=a.shape[0]\n",
    "m=a.shape[1]\n",
    "blist=[]# initialise our list\n",
    "for i in range(n):\n",
    "    slist=[] # we initialise and reset a list for each loop (for each row)\n",
    "    for j in range(m):\n",
    "        slist.append(a[i][j])# we append the numbers into a list/ one list= one row of the array\n",
    "    blist.append(slist)#we append each list into another list\n",
    "print(blist)\n",
    "        \n"
   ]
  },
  {
   "cell_type": "markdown",
   "metadata": {},
   "source": [
    "Question 6 "
   ]
  },
  {
   "cell_type": "code",
   "execution_count": 60,
   "metadata": {},
   "outputs": [
    {
     "name": "stdout",
     "output_type": "stream",
     "text": [
      "(4,)\n",
      "[[5.1875 2.3125]\n",
      " [2.3125 2.1875]]\n"
     ]
    }
   ],
   "source": [
    "a=np.array([0,1,2,6])\n",
    "b=np.array([2,1,0,4])\n",
    "print(a.shape)\n",
    "N=a.shape[0]\n",
    "somme1=0\n",
    "somme2=0\n",
    "temp=0\n",
    "for i in range(N):\n",
    "    somme1=somme1+a[i]\n",
    "    somme2=somme2+b[i]\n",
    "a_moy=somme1/N\n",
    "b_moy=somme2/N\n",
    "for i in range(N):\n",
    "    temp=temp+(a[i]-a_moy)**2\n",
    "cov1=temp/N\n",
    "temp=0\n",
    "for i in range(N):\n",
    "    temp=temp+(b[i]-b_moy)**2\n",
    "cov2=temp/N\n",
    "temp=0\n",
    "for i in range(N):\n",
    "    temp=temp+((a[i]-a_moy)*(b[i]-b_moy))\n",
    "cov3=temp/N\n",
    "result=np.array(([cov1,cov3],[cov3,cov2]))\n",
    "print(result)\n",
    "\n",
    "\n"
   ]
  },
  {
   "cell_type": "markdown",
   "metadata": {},
   "source": [
    "Question 7"
   ]
  },
  {
   "cell_type": "code",
   "execution_count": 56,
   "metadata": {},
   "outputs": [
    {
     "name": "stdout",
     "output_type": "stream",
     "text": [
      "enter values in a comma-separated sequence100,150,180\n",
      "18,22,24,"
     ]
    }
   ],
   "source": [
    "a=input('enter values in a comma-separated sequence')\n",
    "a=a.split(',')#split the input into a list\n",
    "b=[]\n",
    "c=[]\n",
    "for i in range (len(a)):# convert the inputs into int\n",
    "    temp=int(a[i])\n",
    "    b.append(temp)\n",
    "for i in range (len(b)):#compute Q for each value\n",
    "    q2=(2*50*b[i])/30\n",
    "    q=(q2**(1/2))\n",
    "    c.append(q)# add the result into a list\n",
    "for i in range (len(c)):#round all the numbers in the list\n",
    "    temp=round(c[i])\n",
    "    c[i]=temp\n",
    "for i in range (len(c)): #print the list\n",
    "    print(c[i], end=',')\n",
    "\n"
   ]
  },
  {
   "cell_type": "code",
   "execution_count": null,
   "metadata": {},
   "outputs": [],
   "source": []
  }
 ],
 "metadata": {
  "kernelspec": {
   "display_name": "Python 3",
   "language": "python",
   "name": "python3"
  },
  "language_info": {
   "codemirror_mode": {
    "name": "ipython",
    "version": 3
   },
   "file_extension": ".py",
   "mimetype": "text/x-python",
   "name": "python",
   "nbconvert_exporter": "python",
   "pygments_lexer": "ipython3",
   "version": "3.7.6"
  }
 },
 "nbformat": 4,
 "nbformat_minor": 4
}
