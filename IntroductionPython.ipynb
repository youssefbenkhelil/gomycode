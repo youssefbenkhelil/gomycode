{
 "cells": [
  {
   "cell_type": "code",
   "execution_count": 2,
   "metadata": {},
   "outputs": [
    {
     "name": "stderr",
     "output_type": "stream",
     "text": [
      "/Users/yassou795/opt/anaconda3/lib/python3.7/site-packages/sklearn/svm/_base.py:947: ConvergenceWarning: Liblinear failed to converge, increase the number of iterations.\n",
      "  \"the number of iterations.\", ConvergenceWarning)\n"
     ]
    }
   ],
   "source": [
    "from sklearn import datasets\n",
    "from sklearn.model_selection import train_test_split\n",
    "from sklearn.svm import LinearSVC\n",
    "from sklearn.metrics import confusion_matrix\n",
    "\n",
    "\n",
    "# load the iris datasets\n",
    "dataset = datasets.load_iris()\n",
    "X_train, X_test, y_train, y_test = train_test_split(dataset.data, dataset.target)\n",
    "\n",
    "# fit a SVC model to the data\n",
    "model = LinearSVC()\n",
    "model.fit(X_train, y_train)\n",
    "\n",
    "# make predictions\n",
    "expected = y_test\n",
    "predicted = model.predict(X_test)\n"
   ]
  },
  {
   "cell_type": "code",
   "execution_count": 3,
   "metadata": {},
   "outputs": [
    {
     "data": {
      "text/plain": [
       "array([1, 0, 0, 1, 1, 2, 1, 0, 1, 0, 1, 1, 1, 2, 2, 0, 2, 2, 2, 0, 0, 1,\n",
       "       0, 1, 0, 1, 1, 1, 2, 2, 0, 1, 2, 1, 1, 0, 1, 0])"
      ]
     },
     "execution_count": 3,
     "metadata": {},
     "output_type": "execute_result"
    }
   ],
   "source": [
    "\n",
    "predicted"
   ]
  },
  {
   "cell_type": "code",
   "execution_count": 4,
   "metadata": {},
   "outputs": [
    {
     "data": {
      "text/plain": [
       "array([1, 0, 0, 1, 1, 2, 1, 0, 1, 0, 1, 1, 1, 2, 2, 0, 2, 2, 2, 0, 0, 1,\n",
       "       0, 1, 0, 1, 1, 1, 2, 2, 0, 1, 2, 1, 1, 0, 1, 0])"
      ]
     },
     "execution_count": 4,
     "metadata": {},
     "output_type": "execute_result"
    }
   ],
   "source": [
    "expected\n"
   ]
  },
  {
   "cell_type": "code",
   "execution_count": 5,
   "metadata": {},
   "outputs": [
    {
     "data": {
      "text/plain": [
       "array([[12,  0,  0],\n",
       "       [ 0, 17,  0],\n",
       "       [ 0,  0,  9]])"
      ]
     },
     "execution_count": 5,
     "metadata": {},
     "output_type": "execute_result"
    }
   ],
   "source": [
    "confusion_matrix(expected,predicted)"
   ]
  },
  {
   "cell_type": "code",
   "execution_count": 12,
   "metadata": {},
   "outputs": [],
   "source": [
    "# another ML model \n",
    "from sklearn import svm\n",
    "\n",
    "# load the iris datasets\n",
    "dataset = datasets.load_iris()\n",
    "X_train, X_test, y_train, y_test = train_test_split(dataset.data, dataset.target)\n",
    "\n",
    "#fit a model \n",
    "reg = svm.SVR()\n",
    "reg.fit(X_train, y_train)\n",
    "\n",
    "# make predictions\n",
    "expected2 = y_test\n",
    "predicted2 = reg.predict(X_test)"
   ]
  },
  {
   "cell_type": "code",
   "execution_count": 15,
   "metadata": {},
   "outputs": [
    {
     "data": {
      "text/plain": [
       "array([1, 2, 1, 1, 0, 1, 2, 2, 1, 2, 0, 1, 1, 0, 1, 2, 1, 0, 0, 0, 0, 2,\n",
       "       2, 1, 2, 1, 1, 0, 0, 1, 1, 1, 2, 1, 0, 0, 1, 2])"
      ]
     },
     "execution_count": 15,
     "metadata": {},
     "output_type": "execute_result"
    }
   ],
   "source": [
    "expected2"
   ]
  },
  {
   "cell_type": "code",
   "execution_count": 14,
   "metadata": {},
   "outputs": [
    {
     "data": {
      "text/plain": [
       "array([ 1.04591218e+00,  1.81444307e+00,  8.02424302e-01,  1.18352651e+00,\n",
       "        2.41621171e-02,  1.10380292e+00,  2.07986876e+00,  1.93966481e+00,\n",
       "        9.12160699e-01,  1.83160507e+00,  3.23447660e-02,  1.23867646e+00,\n",
       "        9.56527802e-01,  1.11583528e-02,  8.48731489e-01,  2.07202047e+00,\n",
       "        1.53200415e+00, -4.72091252e-02, -1.07239778e-03,  4.64233683e-02,\n",
       "        1.71433204e-02,  1.82559636e+00,  1.78096681e+00,  9.84480585e-01,\n",
       "        1.77616171e+00,  1.15476467e+00,  1.30346312e+00, -5.83422442e-02,\n",
       "       -6.06757988e-02,  9.07015340e-01,  1.23951139e+00,  1.21622407e+00,\n",
       "        1.90393877e+00,  9.46783597e-01,  3.20778221e-02, -1.11311519e-01,\n",
       "        1.35641984e+00,  2.02145599e+00])"
      ]
     },
     "execution_count": 14,
     "metadata": {},
     "output_type": "execute_result"
    }
   ],
   "source": [
    "predicted2"
   ]
  },
  {
   "cell_type": "code",
   "execution_count": 16,
   "metadata": {},
   "outputs": [
    {
     "data": {
      "text/plain": [
       "array([[12,  0,  0],\n",
       "       [ 0, 17,  0],\n",
       "       [ 0,  0,  9]])"
      ]
     },
     "execution_count": 16,
     "metadata": {},
     "output_type": "execute_result"
    }
   ],
   "source": [
    "confusion_matrix(expected,predicted)"
   ]
  },
  {
   "cell_type": "code",
   "execution_count": 19,
   "metadata": {},
   "outputs": [
    {
     "name": "stderr",
     "output_type": "stream",
     "text": [
      "/Users/yassou795/opt/anaconda3/lib/python3.7/site-packages/sklearn/linear_model/_logistic.py:940: ConvergenceWarning: lbfgs failed to converge (status=1):\n",
      "STOP: TOTAL NO. of ITERATIONS REACHED LIMIT.\n",
      "\n",
      "Increase the number of iterations (max_iter) or scale the data as shown in:\n",
      "    https://scikit-learn.org/stable/modules/preprocessing.html\n",
      "Please also refer to the documentation for alternative solver options:\n",
      "    https://scikit-learn.org/stable/modules/linear_model.html#logistic-regression\n",
      "  extra_warning_msg=_LOGISTIC_SOLVER_CONVERGENCE_MSG)\n"
     ]
    }
   ],
   "source": [
    "# another ML model \n",
    "from sklearn.linear_model import LogisticRegression\n",
    "# load the iris datasets\n",
    "dataset = datasets.load_iris()\n",
    "X_train, X_test, y_train, y_test = train_test_split(dataset.data, dataset.target)\n",
    "\n",
    "#fit a model \n",
    "logr = LogisticRegression()\n",
    "logr.fit(X_train, y_train)\n",
    "\n",
    "# make predictions\n",
    "expected3 = y_test\n",
    "predicted3 = reg.predict(X_test)"
   ]
  },
  {
   "cell_type": "code",
   "execution_count": 20,
   "metadata": {},
   "outputs": [
    {
     "data": {
      "text/plain": [
       "array([1, 2, 1, 2, 0, 1, 2, 0, 1, 2, 2, 0, 1, 1, 1, 1, 1, 1, 1, 1, 0, 1,\n",
       "       0, 1, 0, 0, 1, 2, 2, 2, 2, 1, 2, 1, 1, 1, 0, 2])"
      ]
     },
     "execution_count": 20,
     "metadata": {},
     "output_type": "execute_result"
    }
   ],
   "source": [
    "expected3"
   ]
  },
  {
   "cell_type": "code",
   "execution_count": 23,
   "metadata": {},
   "outputs": [
    {
     "data": {
      "text/plain": [
       "array([ 1.18352651,  1.8215939 ,  1.10380292,  2.07202047, -0.05834224,\n",
       "        1.23951139,  1.90018705, -0.06738522,  1.0995906 ,  1.86141403,\n",
       "        1.82559636, -0.11131152,  1.66628743,  1.12264301,  1.41560159,\n",
       "        1.31379723,  1.54024105,  1.52209135,  1.00866732,  1.10035096,\n",
       "       -0.02754934,  0.9467836 , -0.09413257,  1.04591218, -0.0594094 ,\n",
       "       -0.08311171,  1.24749229,  1.90393877,  1.78096681,  2.20941819,\n",
       "        1.85676609,  0.9565278 ,  1.93966481,  0.84873149,  0.8024243 ,\n",
       "        1.21617073, -0.05441172,  1.66874983])"
      ]
     },
     "execution_count": 23,
     "metadata": {},
     "output_type": "execute_result"
    }
   ],
   "source": [
    "predicted3"
   ]
  },
  {
   "cell_type": "code",
   "execution_count": 24,
   "metadata": {},
   "outputs": [
    {
     "data": {
      "text/plain": [
       "array([[12,  0,  0],\n",
       "       [ 0, 17,  0],\n",
       "       [ 0,  0,  9]])"
      ]
     },
     "execution_count": 24,
     "metadata": {},
     "output_type": "execute_result"
    }
   ],
   "source": [
    "confusion_matrix(expected,predicted)"
   ]
  },
  {
   "cell_type": "markdown",
   "metadata": {},
   "source": [
    "The confusion matrix evaluates the model by comparing the expected results and the predicted results of the model. The diagonal of the matrix represents the numbers where the predicted results match the expected results. The other elements of the matrix represent the cases where either the predicted result and expected result do not match. In this case they are all Null. this means that our model is 100% accurate at predicting the iris's species."
   ]
  },
  {
   "cell_type": "code",
   "execution_count": null,
   "metadata": {},
   "outputs": [],
   "source": []
  }
 ],
 "metadata": {
  "kernelspec": {
   "display_name": "Python 3",
   "language": "python",
   "name": "python3"
  },
  "language_info": {
   "codemirror_mode": {
    "name": "ipython",
    "version": 3
   },
   "file_extension": ".py",
   "mimetype": "text/x-python",
   "name": "python",
   "nbconvert_exporter": "python",
   "pygments_lexer": "ipython3",
   "version": "3.7.6"
  }
 },
 "nbformat": 4,
 "nbformat_minor": 4
}
