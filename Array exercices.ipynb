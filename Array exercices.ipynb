{
 "cells": [
  {
   "cell_type": "code",
   "execution_count": 6,
   "metadata": {},
   "outputs": [],
   "source": [
    "import numpy as np\n"
   ]
  },
  {
   "cell_type": "markdown",
   "metadata": {},
   "source": [
    "Question 1"
   ]
  },
  {
   "cell_type": "code",
   "execution_count": 16,
   "metadata": {},
   "outputs": [
    {
     "name": "stdout",
     "output_type": "stream",
     "text": [
      "[[93 16 79 21]\n",
      " [98 39 26 24]\n",
      " [83 81 47 86]\n",
      " [39 87 79 30]]\n",
      "[93, 16, 79, 21, 98, 39, 26, 24, 83, 81, 47, 86, 39, 87, 79, 30]\n"
     ]
    }
   ],
   "source": [
    "L=np.random.randint(0,100,(4,4))\n",
    "print(L)\n",
    "#print(L.shape)\n",
    "n_row=L.shape[0]\n",
    "n_col=L.shape[1]\n",
    "\n",
    "liste=[]\n",
    "for i in range(n_row):\n",
    "    for j in range(n_col):\n",
    "        liste.append(L[i][j])\n",
    "print(liste)"
   ]
  },
  {
   "cell_type": "markdown",
   "metadata": {},
   "source": [
    "Question 2\n"
   ]
  },
  {
   "cell_type": "code",
   "execution_count": 21,
   "metadata": {},
   "outputs": [
    {
     "name": "stdout",
     "output_type": "stream",
     "text": [
      "[[74 11  3 16]\n",
      " [91 78 82  5]\n",
      " [72 38 66 64]\n",
      " [62 39 58 25]]\n",
      "he sum of the diagonal element is  243\n"
     ]
    }
   ],
   "source": [
    "L=np.random.randint(0,100,(4,4))\n",
    "print(L)\n",
    "\n",
    "def somme_A(L) :\n",
    "    n_row=L.shape[0]\n",
    "    n_col=L.shape[1]\n",
    "    somme=0\n",
    "    for i in range(n_row):\n",
    "        somme=somme+L[i][i]\n",
    "    return somme\n",
    "\n",
    "\n",
    "print(\"he sum of the diagonal element is \",somme_A(L))\n",
    "        \n",
    "        "
   ]
  },
  {
   "cell_type": "markdown",
   "metadata": {},
   "source": [
    "Question 3"
   ]
  },
  {
   "cell_type": "code",
   "execution_count": 25,
   "metadata": {},
   "outputs": [
    {
     "name": "stdout",
     "output_type": "stream",
     "text": [
      "[[99 47 56 16]\n",
      " [45 46 84 18]\n",
      " [29 34 51 62]\n",
      " [52 93 97 15]]\n",
      "99 located at (0, 0) is higher than 50\n",
      "56 located at (0, 2) is higher than 50\n",
      "84 located at (1, 2) is higher than 50\n",
      "51 located at (2, 2) is higher than 50\n",
      "62 located at (2, 3) is higher than 50\n",
      "52 located at (3, 0) is higher than 50\n",
      "93 located at (3, 1) is higher than 50\n",
      "97 located at (3, 2) is higher than 50\n"
     ]
    }
   ],
   "source": [
    "def higher(m,x):\n",
    "    m_row=m.shape[0]\n",
    "    m_col=m.shape[1]\n",
    "    for i in range(m_row):\n",
    "        for j in range(m_col):\n",
    "            if m[i][j]>x:\n",
    "                print(m[i][j],\"located at\",(i,j),\"is higher than\",x)\n",
    "m=np.random.randint(0,100,(4,4))\n",
    "print(m)\n",
    "higher(m,50)"
   ]
  },
  {
   "cell_type": "markdown",
   "metadata": {},
   "source": [
    "Question 4"
   ]
  },
  {
   "cell_type": "code",
   "execution_count": 40,
   "metadata": {},
   "outputs": [
    {
     "name": "stdout",
     "output_type": "stream",
     "text": [
      "[[7 6 2 6]\n",
      " [8 0 1 0]\n",
      " [8 0 1 4]\n",
      " [0 9 2 6]]\n",
      "\n",
      "[[9 5 2 7]\n",
      " [1 8 4 9]\n",
      " [8 0 3 7]\n",
      " [4 0 8 4]]\n",
      "\n",
      "[[16 11  4 13]\n",
      " [ 9  8  5  9]\n",
      " [16  0  4 11]\n",
      " [ 4  9 10 10]]\n"
     ]
    }
   ],
   "source": [
    "def add_array(m1,m2):\n",
    "    m1_row=m1.shape[0]\n",
    "    m1_col=m1.shape[1]\n",
    "    m2_row=m1.shape[0]\n",
    "    m2_col=m1.shape[1]\n",
    "    if (m1_row != m2_row) or (m1_col != m2_col):\n",
    "        print(\"the arrays don't have the same shape\")\n",
    "    else:\n",
    "        m3=np.random.randint(0,1,(m1_row,m1_col))\n",
    "        for i in range(m1_row):\n",
    "            for j in range(m1_col):\n",
    "                m3[i][j]=m1[i][j]+m2[i][j]\n",
    "    return m3\n",
    "\n",
    "m1=np.random.randint(0,10,(4,4))\n",
    "m2=np.random.randint(0,10,(4,4))\n",
    "\n",
    "\n",
    "print(m1)\n",
    "print(\"\")\n",
    "print(m2)\n",
    "print(\"\")\n",
    "m3=add_array(m1,m2)\n",
    "print(m3)\n",
    "    \n",
    "    "
   ]
  },
  {
   "cell_type": "markdown",
   "metadata": {},
   "source": [
    "Question 5"
   ]
  },
  {
   "cell_type": "code",
   "execution_count": 42,
   "metadata": {},
   "outputs": [
    {
     "name": "stdout",
     "output_type": "stream",
     "text": [
      "[[1 1 6 4]\n",
      " [8 0 7 4]\n",
      " [9 1 4 7]\n",
      " [4 6 9 1]]\n",
      " \n",
      "[[ -2  -2   3   1]\n",
      " [  0  -7   0  -3]\n",
      " [ -4 -12  -9  -6]\n",
      " [-14 -12  -9 -17]]\n"
     ]
    }
   ],
   "source": [
    "def substract_array(m):\n",
    "    m_row=m1.shape[0]\n",
    "    m_col=m1.shape[1]\n",
    "    somme=0\n",
    "    for i in range(m_row):\n",
    "        for j in range(m1_col):\n",
    "            somme=somme+m[i][j]\n",
    "        mean=(somme/m_row)\n",
    "        for j in range(m_col):\n",
    "            m[i][j]=m[i][j]-mean\n",
    "    return (m)\n",
    "m=np.random.randint(0,10,(4,4))\n",
    "print(m)\n",
    "print(\" \")\n",
    "m1=substract_array(m)\n",
    "print(m1)\n",
    "\n",
    "\n",
    "            \n",
    "    "
   ]
  },
  {
   "cell_type": "code",
   "execution_count": null,
   "metadata": {},
   "outputs": [],
   "source": []
  }
 ],
 "metadata": {
  "kernelspec": {
   "display_name": "Python 3",
   "language": "python",
   "name": "python3"
  },
  "language_info": {
   "codemirror_mode": {
    "name": "ipython",
    "version": 3
   },
   "file_extension": ".py",
   "mimetype": "text/x-python",
   "name": "python",
   "nbconvert_exporter": "python",
   "pygments_lexer": "ipython3",
   "version": "3.7.6"
  }
 },
 "nbformat": 4,
 "nbformat_minor": 4
}
