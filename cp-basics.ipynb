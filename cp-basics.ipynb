{
 "cells": [
  {
   "cell_type": "markdown",
   "metadata": {},
   "source": [
    "Question 1"
   ]
  },
  {
   "cell_type": "code",
   "execution_count": 4,
   "metadata": {},
   "outputs": [
    {
     "name": "stdout",
     "output_type": "stream",
     "text": [
      "enter your first nameyoussef\n",
      "enter your last nameBen khelil\n",
      "Ben khelil  youssef\n"
     ]
    }
   ],
   "source": [
    "x=input(\"enter your first name \")\n",
    "y=input(\"enter your last name \")\n",
    "print(y,\"\",x)"
   ]
  },
  {
   "cell_type": "markdown",
   "metadata": {},
   "source": [
    "Question 2"
   ]
  },
  {
   "cell_type": "code",
   "execution_count": 8,
   "metadata": {},
   "outputs": [
    {
     "name": "stdout",
     "output_type": "stream",
     "text": [
      "enter an integer5\n",
      "615\n"
     ]
    }
   ],
   "source": [
    "n=int(input(\"enter an integer \"))\n",
    "val=n+(n*11)+(n*111)\n",
    "print(val)"
   ]
  },
  {
   "cell_type": "markdown",
   "metadata": {},
   "source": [
    "Question 3"
   ]
  },
  {
   "cell_type": "code",
   "execution_count": 15,
   "metadata": {},
   "outputs": [
    {
     "name": "stdout",
     "output_type": "stream",
     "text": [
      "enter an integer 5\n",
      "5 is an odd number\n"
     ]
    }
   ],
   "source": [
    "n=int(input(\"enter an integer \"))\n",
    "if (n%2==0):\n",
    "    print(n,\"is an even number\")\n",
    "else:\n",
    "    print(n,\"is an odd number\")"
   ]
  },
  {
   "cell_type": "markdown",
   "metadata": {},
   "source": [
    "Question 4"
   ]
  },
  {
   "cell_type": "code",
   "execution_count": 25,
   "metadata": {},
   "outputs": [
    {
     "name": "stdout",
     "output_type": "stream",
     "text": [
      "enter an year 20\n",
      "20 is a leap year\n"
     ]
    }
   ],
   "source": [
    "n=int(input(\"enter an year \"))\n",
    "if((n%4==0)and(n%100!=0)):\n",
    "    print(n,\"is a leap year\")\n",
    "else:\n",
    "    print(n, \"is not a leap year\")\n",
    "    \n",
    "\n"
   ]
  },
  {
   "cell_type": "markdown",
   "metadata": {},
   "source": [
    "Question 5"
   ]
  },
  {
   "cell_type": "code",
   "execution_count": 55,
   "metadata": {},
   "outputs": [
    {
     "name": "stdout",
     "output_type": "stream",
     "text": [
      "enter a string hello team\n",
      "hlota\n"
     ]
    }
   ],
   "source": [
    "n=str(input(\"enter a string \"))\n",
    "new=''\n",
    "for i in range((len(n))):\n",
    "    if((i%2)==0):\n",
    "        new=new+n[i]\n",
    "print(new)"
   ]
  },
  {
   "cell_type": "markdown",
   "metadata": {},
   "source": [
    "Question 6"
   ]
  },
  {
   "cell_type": "code",
   "execution_count": 31,
   "metadata": {},
   "outputs": [
    {
     "name": "stdout",
     "output_type": "stream",
     "text": [
      "enter a price  687\n",
      "there will be a 50% discount!!\n"
     ]
    }
   ],
   "source": [
    "n=int(input(\"enter a price  \"))\n",
    "if(n>=500):\n",
    "    print(\"there will be a 50% discount!!\")\n",
    "elif((n<500)and(n>=200)):\n",
    "    print(\"there will be a 30% discount!\")\n",
    "elif((n>=0)and(n<200)):\n",
    "    print(\"there will be a 10% discount\")\n"
   ]
  },
  {
   "cell_type": "code",
   "execution_count": null,
   "metadata": {},
   "outputs": [],
   "source": []
  }
 ],
 "metadata": {
  "kernelspec": {
   "display_name": "Python 3",
   "language": "python",
   "name": "python3"
  },
  "language_info": {
   "codemirror_mode": {
    "name": "ipython",
    "version": 3
   },
   "file_extension": ".py",
   "mimetype": "text/x-python",
   "name": "python",
   "nbconvert_exporter": "python",
   "pygments_lexer": "ipython3",
   "version": "3.7.6"
  }
 },
 "nbformat": 4,
 "nbformat_minor": 4
}
